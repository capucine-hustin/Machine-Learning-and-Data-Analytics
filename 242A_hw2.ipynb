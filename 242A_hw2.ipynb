{
 "cells": [
  {
   "cell_type": "markdown",
   "metadata": {},
   "source": [
    "<center><span style=\"font-size: 36pt\">INDENG 242A: Homework 2</span></center>\n",
    "<center><span style=\"font-size: 24pt\">Capucine Hustin</span></center>"
   ]
  },
  {
   "cell_type": "markdown",
   "metadata": {},
   "source": [
    "<u><span style=\"font-size: 24pt\">Problem 2</span></u>"
   ]
  },
  {
   "cell_type": "markdown",
   "metadata": {},
   "source": [
    "<u><span style=\"font-size: 18pt\">Question a</span></u>"
   ]
  },
  {
   "cell_type": "code",
   "execution_count": 1,
   "metadata": {},
   "outputs": [],
   "source": [
    "# uploading the data\n",
    "import csv\n",
    "import pandas as pd\n",
    "import matplotlib.pyplot as plt\n",
    "import numpy as np\n",
    "\n",
    "%matplotlib inline\n",
    "#open the first csv\n",
    "test = pd.read_csv('framingham_test_sp24.csv')\n",
    "train = pd.read_csv('framingham_train_sp24.csv')"
   ]
  },
  {
   "cell_type": "code",
   "execution_count": 2,
   "metadata": {},
   "outputs": [
    {
     "data": {
      "text/html": [
       "<div>\n",
       "<style scoped>\n",
       "    .dataframe tbody tr th:only-of-type {\n",
       "        vertical-align: middle;\n",
       "    }\n",
       "\n",
       "    .dataframe tbody tr th {\n",
       "        vertical-align: top;\n",
       "    }\n",
       "\n",
       "    .dataframe thead th {\n",
       "        text-align: right;\n",
       "    }\n",
       "</style>\n",
       "<table border=\"1\" class=\"dataframe\">\n",
       "  <thead>\n",
       "    <tr style=\"text-align: right;\">\n",
       "      <th></th>\n",
       "      <th>male</th>\n",
       "      <th>age</th>\n",
       "      <th>education</th>\n",
       "      <th>currentSmoker</th>\n",
       "      <th>cigsPerDay</th>\n",
       "      <th>BPMeds</th>\n",
       "      <th>prevalentStroke</th>\n",
       "      <th>prevalentHyp</th>\n",
       "      <th>diabetes</th>\n",
       "      <th>totChol</th>\n",
       "      <th>sysBP</th>\n",
       "      <th>diaBP</th>\n",
       "      <th>BMI</th>\n",
       "      <th>heartRate</th>\n",
       "      <th>glucose</th>\n",
       "      <th>TenYearCHD</th>\n",
       "    </tr>\n",
       "  </thead>\n",
       "  <tbody>\n",
       "    <tr>\n",
       "      <th>0</th>\n",
       "      <td>0</td>\n",
       "      <td>63</td>\n",
       "      <td>Some high school</td>\n",
       "      <td>0</td>\n",
       "      <td>0</td>\n",
       "      <td>0</td>\n",
       "      <td>0</td>\n",
       "      <td>1</td>\n",
       "      <td>0</td>\n",
       "      <td>293</td>\n",
       "      <td>193.0</td>\n",
       "      <td>63.0</td>\n",
       "      <td>30.00</td>\n",
       "      <td>70</td>\n",
       "      <td>76</td>\n",
       "      <td>1</td>\n",
       "    </tr>\n",
       "    <tr>\n",
       "      <th>1</th>\n",
       "      <td>1</td>\n",
       "      <td>41</td>\n",
       "      <td>High school/GED</td>\n",
       "      <td>1</td>\n",
       "      <td>40</td>\n",
       "      <td>0</td>\n",
       "      <td>0</td>\n",
       "      <td>0</td>\n",
       "      <td>0</td>\n",
       "      <td>310</td>\n",
       "      <td>117.5</td>\n",
       "      <td>80.0</td>\n",
       "      <td>26.74</td>\n",
       "      <td>80</td>\n",
       "      <td>78</td>\n",
       "      <td>0</td>\n",
       "    </tr>\n",
       "    <tr>\n",
       "      <th>2</th>\n",
       "      <td>1</td>\n",
       "      <td>58</td>\n",
       "      <td>Some college/vocational school</td>\n",
       "      <td>0</td>\n",
       "      <td>0</td>\n",
       "      <td>0</td>\n",
       "      <td>0</td>\n",
       "      <td>0</td>\n",
       "      <td>0</td>\n",
       "      <td>250</td>\n",
       "      <td>109.0</td>\n",
       "      <td>78.5</td>\n",
       "      <td>25.26</td>\n",
       "      <td>90</td>\n",
       "      <td>83</td>\n",
       "      <td>0</td>\n",
       "    </tr>\n",
       "    <tr>\n",
       "      <th>3</th>\n",
       "      <td>1</td>\n",
       "      <td>43</td>\n",
       "      <td>Some high school</td>\n",
       "      <td>1</td>\n",
       "      <td>43</td>\n",
       "      <td>0</td>\n",
       "      <td>0</td>\n",
       "      <td>0</td>\n",
       "      <td>0</td>\n",
       "      <td>215</td>\n",
       "      <td>122.0</td>\n",
       "      <td>76.0</td>\n",
       "      <td>26.84</td>\n",
       "      <td>85</td>\n",
       "      <td>74</td>\n",
       "      <td>0</td>\n",
       "    </tr>\n",
       "    <tr>\n",
       "      <th>4</th>\n",
       "      <td>1</td>\n",
       "      <td>46</td>\n",
       "      <td>College</td>\n",
       "      <td>0</td>\n",
       "      <td>0</td>\n",
       "      <td>0</td>\n",
       "      <td>0</td>\n",
       "      <td>1</td>\n",
       "      <td>0</td>\n",
       "      <td>220</td>\n",
       "      <td>136.5</td>\n",
       "      <td>99.5</td>\n",
       "      <td>27.78</td>\n",
       "      <td>80</td>\n",
       "      <td>70</td>\n",
       "      <td>0</td>\n",
       "    </tr>\n",
       "  </tbody>\n",
       "</table>\n",
       "</div>"
      ],
      "text/plain": [
       "   male  age                       education  currentSmoker  cigsPerDay  \\\n",
       "0     0   63                Some high school              0           0   \n",
       "1     1   41                 High school/GED              1          40   \n",
       "2     1   58  Some college/vocational school              0           0   \n",
       "3     1   43                Some high school              1          43   \n",
       "4     1   46                         College              0           0   \n",
       "\n",
       "   BPMeds  prevalentStroke  prevalentHyp  diabetes  totChol  sysBP  diaBP  \\\n",
       "0       0                0             1         0      293  193.0   63.0   \n",
       "1       0                0             0         0      310  117.5   80.0   \n",
       "2       0                0             0         0      250  109.0   78.5   \n",
       "3       0                0             0         0      215  122.0   76.0   \n",
       "4       0                0             1         0      220  136.5   99.5   \n",
       "\n",
       "     BMI  heartRate  glucose  TenYearCHD  \n",
       "0  30.00         70       76           1  \n",
       "1  26.74         80       78           0  \n",
       "2  25.26         90       83           0  \n",
       "3  26.84         85       74           0  \n",
       "4  27.78         80       70           0  "
      ]
     },
     "execution_count": 2,
     "metadata": {},
     "output_type": "execute_result"
    }
   ],
   "source": [
    "train.head()"
   ]
  },
  {
   "cell_type": "code",
   "execution_count": 3,
   "metadata": {},
   "outputs": [],
   "source": [
    "import statsmodels.formula.api as smf"
   ]
  },
  {
   "cell_type": "code",
   "execution_count": 4,
   "metadata": {},
   "outputs": [
    {
     "name": "stdout",
     "output_type": "stream",
     "text": [
      "Optimization terminated successfully.\n",
      "         Current function value: 0.375973\n",
      "         Iterations 7\n",
      "                           Logit Regression Results                           \n",
      "==============================================================================\n",
      "Dep. Variable:             TenYearCHD   No. Observations:                 2560\n",
      "Model:                          Logit   Df Residuals:                     2542\n",
      "Method:                           MLE   Df Model:                           17\n",
      "Date:                Sun, 25 Feb 2024   Pseudo R-squ.:                  0.1285\n",
      "Time:                        15:40:07   Log-Likelihood:                -962.49\n",
      "converged:                       True   LL-Null:                       -1104.4\n",
      "Covariance Type:            nonrobust   LLR p-value:                 2.367e-50\n",
      "===============================================================================================================\n",
      "                                                  coef    std err          z      P>|z|      [0.025      0.975]\n",
      "---------------------------------------------------------------------------------------------------------------\n",
      "Intercept                                      -9.0826      0.842    -10.787      0.000     -10.733      -7.432\n",
      "education[T.High school/GED]                   -0.1220      0.211     -0.579      0.563      -0.535       0.291\n",
      "education[T.Some college/vocational school]    -0.0870      0.233     -0.373      0.709      -0.544       0.370\n",
      "education[T.Some high school]                   0.0519      0.196      0.265      0.791      -0.333       0.437\n",
      "male                                            0.4217      0.133      3.178      0.001       0.162       0.682\n",
      "age                                             0.0711      0.008      8.829      0.000       0.055       0.087\n",
      "currentSmoker                                   0.1506      0.185      0.813      0.416      -0.212       0.514\n",
      "cigsPerDay                                      0.0250      0.007      3.476      0.001       0.011       0.039\n",
      "BPMeds                                          0.2873      0.274      1.048      0.295      -0.250       0.824\n",
      "prevalentStroke                                 0.7975      0.571      1.397      0.162      -0.321       1.916\n",
      "prevalentHyp                                    0.2215      0.163      1.355      0.175      -0.099       0.542\n",
      "diabetes                                       -0.0481      0.368     -0.131      0.896      -0.769       0.673\n",
      "totChol                                         0.0028      0.001      2.048      0.041       0.000       0.005\n",
      "sysBP                                           0.0092      0.004      2.041      0.041       0.000       0.018\n",
      "diaBP                                           0.0077      0.008      0.988      0.323      -0.008       0.023\n",
      "BMI                                             0.0058      0.015      0.382      0.703      -0.024       0.036\n",
      "heartRate                                      -0.0042      0.005     -0.843      0.399      -0.014       0.006\n",
      "glucose                                         0.0082      0.003      3.178      0.001       0.003       0.013\n",
      "===============================================================================================================\n"
     ]
    }
   ],
   "source": [
    "logreg = smf.logit(formula = 'TenYearCHD ~ male + age + education + currentSmoker + cigsPerDay + BPMeds + prevalentStroke + prevalentHyp + diabetes + totChol + sysBP + diaBP + BMI + heartRate + glucose',\n",
    "                   data = train).fit()\n",
    "\n",
    "print(logreg.summary())"
   ]
  },
  {
   "cell_type": "markdown",
   "metadata": {},
   "source": [
    "The regression is: "
   ]
  },
  {
   "cell_type": "markdown",
   "metadata": {},
   "source": [
    "$$\n",
    "\\text{P(Y=1)} =\\frac{1}{1+e^{-W}} \\\\\n",
    "$$\n"
   ]
  },
  {
   "cell_type": "markdown",
   "metadata": {},
   "source": [
    "Where:"
   ]
  },
  {
   "cell_type": "markdown",
   "metadata": {},
   "source": [
    "$$\n",
    "W= -9.0826  + 0.4217 \\times \\text{male} + 0.0711 \\times \\text{age} + 0.1506 \\times \\text{currentSmoker} + 0.0250 \\times \\text{cigsPerDay} + 0.2873 \\times \\text{BPMeds}  + 0.7975 \\times \\text{prevalentStroke}  + 0.2215 \\times \\text{prevalentHyp} - 0.0481 \\times \\text{diabetes} + 0.0028 \\times \\text{totChol} + 0.0092 \\times \\text{sysBP} + 0.0077 \\times \\text{diaBP} + 0.0058 \\times \\text{BMI} - 0.0042 \\times \\text{heartRate} + 0.0082 \\times \\text{glucose}  - 0.1220 \\times \\mathbb{1}_{\\text{T.High school/GED}} - 0.0870 \\times \\mathbb{1}_{\\text{T.Some college/vocational school}} + 0.0519 \\times \\mathbb{1}_{\\text{T.Some high school}}\n",
    "$$"
   ]
  },
  {
   "cell_type": "markdown",
   "metadata": {},
   "source": [
    "The most important factors are the ones with a low p-value (<0.005). Those are then: male, age, cigsPerDay and glucose. "
   ]
  },
  {
   "cell_type": "markdown",
   "metadata": {},
   "source": [
    "One of the most important risk factors is age (it has a p-value of 0.000). The coefficient is 0.0711 (>0). Therefore, the older someone is, the higher W will be, and consequently, the probability of P(Y=1) will be closer to one. The older you are, the more likely you are to have a 10-year CHD.\n",
    "\n",
    "Let's look at the odds:"
   ]
  },
  {
   "cell_type": "markdown",
   "metadata": {},
   "source": [
    "$$\n",
    "odd(x)=\\frac{P(Y=1|X=x)}{P(Y=0|X=x)}=e^{\\beta x}\n",
    "$$"
   ]
  },
  {
   "cell_type": "markdown",
   "metadata": {},
   "source": [
    "So if the variable $x_i$ which represent the age increase by 1 the odd is multiplied by $e^{\\beta_i}$ ≈ 1.07. Which is an increase of 7%."
   ]
  },
  {
   "cell_type": "markdown",
   "metadata": {},
   "source": [
    "$$\n",
    "\\mathbb{E}\\text{[cost with prescription]}= 0.15 \\times p \\times 1000000 + (1-0.15 \\times p)\\times 100000 = 100 000 + 135 000 \\times p \\\\\n",
    "\\mathbb{E}\\text{[cost without prescription]}= 900 000 \\times p \n",
    "$$"
   ]
  },
  {
   "cell_type": "markdown",
   "metadata": {},
   "source": [
    "So, \n",
    "\n",
    "$$\n",
    "\\mathbb{E}\\text{[cost with prescription]} \\leq \\mathbb{E}\\text{[cost without prescription]} \\Leftrightarrow 0.15 \\times p \\times 1000000 + (1-0.15 \\times p)\\times 100000 = 100 000 + 135 000 \\times p \\leq 900 000 \\times p  \\Leftrightarrow p \\geq \\frac{20}{153}\n",
    "$$"
   ]
  },
  {
   "cell_type": "markdown",
   "metadata": {},
   "source": [
    "Thus, \n",
    "$$\n",
    "\\overline{p}=\\frac{20}{153}≈0.13\n",
    "$$"
   ]
  },
  {
   "cell_type": "code",
   "execution_count": 6,
   "metadata": {},
   "outputs": [
    {
     "data": {
      "text/plain": [
       "0       1\n",
       "1       1\n",
       "2       1\n",
       "3       0\n",
       "4       1\n",
       "       ..\n",
       "1093    1\n",
       "1094    1\n",
       "1095    1\n",
       "1096    1\n",
       "1097    1\n",
       "Length: 1098, dtype: int64"
      ]
     },
     "execution_count": 6,
     "metadata": {},
     "output_type": "execute_result"
    }
   ],
   "source": [
    "y_test = test['TenYearCHD']\n",
    "\n",
    "y_prob = logreg.predict(test)\n",
    "y_pred = pd.Series([1 if x > 20/153 else 0 for x in y_prob], index=y_prob.index)\n",
    "#p is 20/153"
   ]
  },
  {
   "cell_type": "code",
   "execution_count": 7,
   "metadata": {},
   "outputs": [],
   "source": [
    "from sklearn.metrics import confusion_matrix"
   ]
  },
  {
   "cell_type": "code",
   "execution_count": 8,
   "metadata": {},
   "outputs": [
    {
     "name": "stdout",
     "output_type": "stream",
     "text": [
      "Confusion Matrix : \n",
      " [[568 370]\n",
      " [ 47 113]]\n"
     ]
    }
   ],
   "source": [
    "cm = confusion_matrix(y_test, y_pred)\n",
    "print (\"Confusion Matrix : \\n\", cm)"
   ]
  },
  {
   "cell_type": "markdown",
   "metadata": {},
   "source": [
    "The confusion matrix represents:\n",
    "\n",
    "TN FP\n",
    "\n",
    "FN TP"
   ]
  },
  {
   "cell_type": "markdown",
   "metadata": {},
   "source": [
    "$$\n",
    "\\text{Accuracy}=\\frac{TN + TP}{TN + FP + FN + TP}=\\frac{568+113}{568+370+47+113}=\\frac{227}{366}≈0.62\n",
    "$$"
   ]
  },
  {
   "cell_type": "markdown",
   "metadata": {},
   "source": [
    "$$\n",
    "\\text{TPR}=\\frac{TP}{All positives}=\\frac{113}{113+47}=\\frac{113}{160}≈0.71\n",
    "$$"
   ]
  },
  {
   "cell_type": "markdown",
   "metadata": {},
   "source": [
    "$$\n",
    "\\text{FPR}=\\frac{FP}{All negatives}=\\frac{370}{370+568}=\\frac{145}{469}≈0.39\n",
    "$$"
   ]
  },
  {
   "cell_type": "markdown",
   "metadata": {},
   "source": [
    "The Accuracy measures how well the model predict all the cases. It shows the frequency of correct answers (predictions). \\\n",
    "Here, the Accuracy is close to 0.62, which means that 62% of the testing data set was correctly forecasted. The more the Accuracy is close to 1 the better it is. "
   ]
  },
  {
   "cell_type": "markdown",
   "metadata": {},
   "source": [
    "The True Positive Rate measures how well the model correctly identifies the people who will develop CHD. It represents: among all the people who actually developed CHD, how many of them did the model correctly classify as having CHD.\\\n",
    "Here, the TPR is 0.71, which mean that 71% of the people that developed CHD was spotted by the model. The more the TPR is close to 1 the better it is. "
   ]
  },
  {
   "cell_type": "markdown",
   "metadata": {},
   "source": [
    "The Negative Positive Rate measures how often the model classify a person that will not develop CHD as someone who will. Which is that, out all of the people that never developed CHD, how many of them were incorrectly predicted as developing CHD by the model.\\\n",
    "Here, the FPR is 0.39, which means that 39% of the people that has never developed CHD was considered as future CHD developer by the model. "
   ]
  },
  {
   "cell_type": "markdown",
   "metadata": {},
   "source": [
    "If we assume that the CHD outcomes in the test set are not affected by the treatment decision, we have:"
   ]
  },
  {
   "cell_type": "markdown",
   "metadata": {},
   "source": [
    "$$\n",
    "\\mathbb{E}\\text{[cost per patient]}= \\frac{100000 \\times \\text{number of people getting the medication} + 900000 \\times \\text{number of people getting a 10 year CHD}}{\\text{number of patients}}\n",
    "$$"
   ]
  },
  {
   "cell_type": "code",
   "execution_count": 12,
   "metadata": {},
   "outputs": [
    {
     "name": "stdout",
     "output_type": "stream",
     "text": [
      "the expected economic cost per patient is: 175136.61202185793\n"
     ]
    }
   ],
   "source": [
    "print(\"The expected economic cost per patient is:\",(100000*sum(y_pred)+900000*sum(y_test))/len(y_pred))"
   ]
  },
  {
   "cell_type": "markdown",
   "metadata": {},
   "source": [
    "This assumption is not reasonnable. According to the assignment, the medication leads to a 85% decrease of the probability of developing CHD within the next 10 years. "
   ]
  },
  {
   "cell_type": "markdown",
   "metadata": {},
   "source": [
    "Now, we will supose that, once a patient take the medication, his chances of having CHD decreases by 85%. The new equation is then:"
   ]
  },
  {
   "cell_type": "markdown",
   "metadata": {},
   "source": [
    "$$\n",
    "\\mathbb{E}\\text{[cost per patient]}= \\frac{\\sum_{\\text{patient i}}(100 000 + 0.15 \\times 900000 \\times \\mathbb{1}_{\\text{CHD}})\\times \\mathbb{1}_{\\text{medication}} + 900 000 \\times \\mathbb{1}_{\\text{no medication}} \\times \\mathbb{1}_{\\text{CHD}}}{\\text{number of patients}}\n",
    "$$"
   ]
  },
  {
   "cell_type": "code",
   "execution_count": 14,
   "metadata": {},
   "outputs": [
    {
     "name": "stdout",
     "output_type": "stream",
     "text": [
      "The expected economic cost per patient is: 96407.10382513661\n"
     ]
    }
   ],
   "source": [
    "E=0\n",
    "for i in range(len(test)):\n",
    "    if y_pred[i]==1:\n",
    "        E+=100000\n",
    "        if y_test[i]==1:\n",
    "            E+=0.15*900000\n",
    "    elif y_test[i]==1:\n",
    "        E+=900000\n",
    "\n",
    "print(\"The expected economic cost per patient is:\",E/len(test))"
   ]
  },
  {
   "cell_type": "markdown",
   "metadata": {},
   "source": [
    "Baseline model:"
   ]
  },
  {
   "cell_type": "code",
   "execution_count": 15,
   "metadata": {},
   "outputs": [
    {
     "name": "stdout",
     "output_type": "stream",
     "text": [
      "Accuracy= 0.8542805100182149\n",
      "TPR= 0\n",
      "FPR= 0\n"
     ]
    }
   ],
   "source": [
    "CHD = np.sum(y_test)  # get CHD within 10 years\n",
    "CHD_no=len(y_test)-CHD # doesn't get CHD within 10 years\n",
    "\n",
    "\n",
    "print(\"Accuracy=\",CHD_no/len(y_test))\n",
    "print(\"TPR=\",0)\n",
    "print(\"FPR=\",0)"
   ]
  },
  {
   "cell_type": "markdown",
   "metadata": {},
   "source": [
    "With this model we have a better (higher) Accuracy than the one with the threshold at 0.13. \\\n",
    "We also have a better (lower) False Positive Rate. This isi logical as no patient are at high risk with this model. This indicator can be interesting to save money on useless medication. \\\n",
    "However we have a way worse True Positive Rate. We never correctly identify when someone is actually at high risk. This can be a huge problem for the health of our patient. "
   ]
  },
  {
   "cell_type": "code",
   "execution_count": 26,
   "metadata": {},
   "outputs": [
    {
     "data": {
      "text/plain": [
       "0    0.142586\n",
       "dtype: float64"
      ]
     },
     "execution_count": 26,
     "metadata": {},
     "output_type": "execute_result"
    }
   ],
   "source": [
    "new_patient = pd.DataFrame(data = {'male' : [1], 'age' : [52], 'education' : ['College'],\n",
    "                               'currentSmoker' : [1], 'cigsPerDay' : [4], 'BPMeds' : [0], 'prevalentStroke': [0], 'prevalentHyp':[0], 'diabetes':[1], 'totChol':[180], 'sysBP':[120], 'diaBP':[90], 'BMI':[26], 'heartRate':[70], 'glucose':[100]})\n",
    "logreg.predict(new_patient)"
   ]
  },
  {
   "cell_type": "markdown",
   "metadata": {},
   "source": [
    "This patient has a probability of having a CHD within the next 10 years with 0.14. This is superior than the threshold we have computed in (iii), that was equal to 20/153 (≈0.13).\\\n",
    "The physician should then prescribe the preventive medication for this patient."
   ]
  },
  {
   "cell_type": "markdown",
   "metadata": {},
   "source": [
    "<u><span style=\"font-size: 18pt\">Question b</span></u>"
   ]
  },
  {
   "cell_type": "code",
   "execution_count": 24,
   "metadata": {},
   "outputs": [],
   "source": [
    "y_train = train['TenYearCHD']\n",
    "X_train = train.drop(['TenYearCHD'], axis=1)\n",
    "\n",
    "X_test = test.drop(['TenYearCHD'], axis=1)\n",
    "#we already have y_test"
   ]
  },
  {
   "cell_type": "code",
   "execution_count": 25,
   "metadata": {},
   "outputs": [
    {
     "data": {
      "image/png": "[encoded data removed]",
      "text/plain": [
       "<Figure size 800x600 with 1 Axes>"
      ]
     },
     "metadata": {},
     "output_type": "display_data"
    }
   ],
   "source": [
    "from sklearn.metrics import roc_curve, auc\n",
    "\n",
    "fpr, tpr, _ = roc_curve(y_test, y_prob)\n",
    "roc_auc = auc(fpr, tpr)\n",
    "\n",
    "plt.figure(figsize=(8, 6))\n",
    "plt.title('ROC Curve', fontsize=18)\n",
    "plt.xlabel('FPR', fontsize=16)\n",
    "plt.ylabel('TPR', fontsize=16)\n",
    "plt.xlim([-0.01, 1.00])\n",
    "plt.ylim([-0.01, 1.01])\n",
    "plt.plot(fpr, tpr, lw=3, label='Logistic Regression (area = {:0.2f})'.format(roc_auc))\n",
    "plt.plot([0, 1], [0, 1], color='navy', lw=3, linestyle='--', label='Naive Baseline (area = 0.50)')\n",
    "plt.legend(loc='lower right', fontsize=14)\n",
    "plt.show()"
   ]
  },
  {
   "cell_type": "markdown",
   "metadata": {},
   "source": [
    "This curve can be usefull to have a tradeoff between a good TPR and a good FPR. The better the TPR gets the worse the FPR gets and vice versa. \\\n",
    "Thus, with this curve we can find a tradeoff. A good TPR is important to detect the future sick people and save the 900 000. A good FPR is important to save money on useless medication. We can chose a threshold with this curve according to what we want FPR and TPR. \\\n",
    "Decision-makers can also compare this ROC curve with those of other possible medications for preventing CHD. This can be usefull to determine which medication to take. \n",
    "\n",
    "We can see that the curve is steep from [0,0.3]. So the model improves a lot in terms of TPR while the FPR doesn't get \"really\" worse, only a little. \n",
    "\n",
    "The AUC of the logistic regression i_s 0.71. This is better than 0.5, so this model is better than a random guessing. "
   ]
  },
  {
   "cell_type": "markdown",
   "metadata": {},
   "source": [
    "<u><span style=\"font-size: 18pt\">Question c</span></u>"
   ]
  },
  {
   "cell_type": "markdown",
   "metadata": {},
   "source": [
    "$$\n",
    "\\mathbb{E}\\text{[cost with prescription]}= C + 0.15 \\times p \\times 600000  \\\\\n",
    "\\mathbb{E}\\text{[cost without prescription]}= 600 000 \\times p \n",
    "$$"
   ]
  },
  {
   "cell_type": "markdown",
   "metadata": {},
   "source": [
    "The cost here, is the cost for the PATIENT, what he/she will have to pay. "
   ]
  },
  {
   "cell_type": "markdown",
   "metadata": {},
   "source": [
    "We want that the patient take the medication if and only if his/her probability of having CHD within the next 10 years is above $\\overline{p}$. Which is equivalent to:\n",
    "\n",
    "$$\n",
    "\\mathbb{E}\\text{[cost with prescription]} \\leq \\mathbb{E}\\text{[cost without prescription]} \\Leftrightarrow p \\geq \\overline{p}\n",
    "$$"
   ]
  },
  {
   "cell_type": "markdown",
   "metadata": {},
   "source": [
    "And, \n",
    "\n",
    "$$\n",
    "\\mathbb{E}\\text{[cost with prescription]} \\leq \\mathbb{E}\\text{[cost without prescription]} \\Leftrightarrow C + 600000\\times 0.15 \\times p \\leq 600 000 \\times p \\Leftrightarrow C\\leq 510 000 \\times p\n",
    "$$"
   ]
  },
  {
   "cell_type": "markdown",
   "metadata": {},
   "source": [
    "Thus, we have to fix C that way: \n",
    "$$\n",
    "C= 510 000 \\times \\overline{p} = 510 000 \\times \\frac{20}{153}=\\frac{200 000}{3} ≈ \\$66 667\n",
    "$$"
   ]
  },
  {
   "cell_type": "markdown",
   "metadata": {},
   "source": [
    "<u><span style=\"font-size: 18pt\">Question d</span></u>"
   ]
  },
  {
   "cell_type": "markdown",
   "metadata": {},
   "source": [
    "There are some aspects of of the analysis performed that raises ethical concerns, especially the fact that everything is based on the money saved and not on the health of people. All the threshold, the computation were centered around the profit or cost but we can argue that the health of people is more important. \\\n",
    "A way to change the analysis could be to change the decision metrics. Instead of using the cost of medication and CHD, we can use an other index. For instance, the pain of the medication side effect and the pain of CHD on a scale for 0 to 100. This data might be harder to collect, but the approach would be more ethical I think."
   ]
  }
 ],
 "metadata": {
  "kernelspec": {
   "display_name": "bear",
   "language": "python",
   "name": "python3"
  },
  "language_info": {
   "codemirror_mode": {
    "name": "ipython",
    "version": 3
   },
   "file_extension": ".py",
   "mimetype": "text/x-python",
   "name": "python",
   "nbconvert_exporter": "python",
   "pygments_lexer": "ipython3",
   "version": "3.10.13"
  }
 },
 "nbformat": 4,
 "nbformat_minor": 2
}
